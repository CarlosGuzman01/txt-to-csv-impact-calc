{
 "cells": [
  {
   "cell_type": "code",
   "execution_count": 10,
   "metadata": {},
   "outputs": [
    {
     "name": "stdout",
     "output_type": "stream",
     "text": [
      "138960028\n"
     ]
    }
   ],
   "source": [
    "import pandas as pd\n",
    "\n",
    "df1 = pd.read_csv('2024-01.csv')\n",
    "total1 = df1['Size'].sum()\n",
    "\n",
    "df2 = pd.read_csv('2024-02.csv')\n",
    "total2 = df2['Size'].sum()\n",
    "\n",
    "df3 = pd.read_csv('2024-03.csv')\n",
    "total3 = df3['Size'].sum()\n",
    "\n",
    "df4 = pd.read_csv('2024-04.csv')\n",
    "total4 = df4['Size'].sum()\n",
    "\n",
    "df5 = pd.read_csv('2024-05.csv')\n",
    "total5 = df5['Size'].sum()\n",
    "\n",
    "df6 = pd.read_csv('2024-06.csv')\n",
    "total6 = df6['Size'].sum()\n",
    "\n",
    "df7 = pd.read_csv('2024-07.csv')\n",
    "total7 = df7['Size'].sum()\n",
    "\n",
    "df8 = pd.read_csv('2024-08.csv')\n",
    "total8 = df8['Size'].sum()\n",
    "\n",
    "df9 = pd.read_csv('2024-09.csv')\n",
    "total9 = df9['Size'].sum()\n",
    "\n",
    "df10 = pd.read_csv('2024-10.csv')\n",
    "total10 = df10['Size'].sum()\n",
    "\n",
    "df11 = pd.read_csv('2024-11.csv')\n",
    "total11 = df11['Size'].sum()\n",
    "\n",
    "df12 = pd.read_csv('2024-12.csv')\n",
    "total12 = df12['Size'].sum()\n",
    "\n",
    "totals = [total1, total2, total3, total4, total5, total6, total7, total8, total9, total10, total11, total12]\n",
    "\n",
    "print(sum(totals))\n",
    "\n",
    "#138,960,028\n"
   ]
  }
 ],
 "metadata": {
  "kernelspec": {
   "display_name": "myenv",
   "language": "python",
   "name": "python3"
  },
  "language_info": {
   "codemirror_mode": {
    "name": "ipython",
    "version": 3
   },
   "file_extension": ".py",
   "mimetype": "text/x-python",
   "name": "python",
   "nbconvert_exporter": "python",
   "pygments_lexer": "ipython3",
   "version": "3.12.3"
  }
 },
 "nbformat": 4,
 "nbformat_minor": 2
}
